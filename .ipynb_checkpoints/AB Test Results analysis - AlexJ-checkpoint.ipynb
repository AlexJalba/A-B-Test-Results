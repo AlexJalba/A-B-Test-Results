{
 "cells": [
  {
   "cell_type": "markdown",
   "metadata": {},
   "source": [
    "## Analyze A/B Test Results\n",
    "\n",
    "\n",
    "\n",
    "## Contents Table\n",
    "- [Introduction](#intro)\n",
    "- [Part I - Probability](#probability)\n",
    "- [Part II - A/B Test](#ab_test)\n",
    "- [Part III - Regression](#regression)\n",
    "\n",
    "\n",
    "<a id='intro'></a>\n",
    "### Quick overview\n",
    "\n",
    "In this project, I will be working to understand the results of an A/B test run by an e-commerce website.  My goal is to work through this notebook to help the company understand if they should implement the new page, keep the old page, or perhaps run the experiment longer to make their decision.\n",
    "\n",
    "The data has been provided as two CSV files. The main CSV contains almost 300,000 row datapoints. The experiment started on the **2nd of January 2017** and has been run for **22 days**. \n",
    "\n",
    "The main CSV file contains 5 columns: \n",
    "\n",
    "     - UserId (int) unique identifier for the user ;\n",
    "     - Timestamp (datetime) the time at which the experiment occured;\n",
    "     - Group (string) user categorical data;\n",
    "     - Landing_page (string) reflects the webpage the user used ;\n",
    "     - Converted (boolean) showing if a conversion took place or not for the specific user.\n",
    "     \n",
    "\n",
    "The second CSV files contains two columns, user_id and the country of origin. At the end of this project I will link the two files and compute a logistic regression to understand from which country users are more likely to convert.\n",
    "\n",
    "My analysis goes beyond with an exploration about the time of day users are more likely to convert. For this purpose you will see that I created dummy variables based on the timestamp column into day periods and used logistic regression to determine if users are more likely to convert during morning hours, evening or noon. \n",
    "\n",
    "<a id='probability'></a>\n",
    "#### Part I - Probability\n",
    "\n",
    "To get started, let's import our libraries.\n",
    "\n",
    "*Pandas* for working with CSV files;\n",
    "\n",
    "*Numpy* to work with arrays and matrices ;\n",
    "\n",
    "*Matplotlib and Seaborn* to create beautiful grafical represantations."
   ]
  },
  {
   "cell_type": "code",
   "execution_count": 124,
   "metadata": {
    "collapsed": true
   },
   "outputs": [],
   "source": [
    "import pandas as pd\n",
    "import numpy as np\n",
    "import random\n",
    "import matplotlib.pyplot as plt\n",
    "import seaborn as sns\n",
    "sns.set_style('darkgrid')\n",
    "\n",
    "%matplotlib inline\n",
    "#We are setting the seed to assure you get the same answers on quizzes as we set up\n",
    "random.seed(42)"
   ]
  },
  {
   "cell_type": "markdown",
   "metadata": {},
   "source": [
    "`1.` Using pandas to create a dataframe from csv files and later on to manipulate it.\n",
    "\n",
    "`(a)`"
   ]
  },
  {
   "cell_type": "code",
   "execution_count": 125,
   "metadata": {},
   "outputs": [
    {
     "data": {
      "text/html": [
       "<div>\n",
       "<style>\n",
       "    .dataframe thead tr:only-child th {\n",
       "        text-align: right;\n",
       "    }\n",
       "\n",
       "    .dataframe thead th {\n",
       "        text-align: left;\n",
       "    }\n",
       "\n",
       "    .dataframe tbody tr th {\n",
       "        vertical-align: top;\n",
       "    }\n",
       "</style>\n",
       "<table border=\"1\" class=\"dataframe\">\n",
       "  <thead>\n",
       "    <tr style=\"text-align: right;\">\n",
       "      <th></th>\n",
       "      <th>user_id</th>\n",
       "      <th>timestamp</th>\n",
       "      <th>group</th>\n",
       "      <th>landing_page</th>\n",
       "      <th>converted</th>\n",
       "    </tr>\n",
       "  </thead>\n",
       "  <tbody>\n",
       "    <tr>\n",
       "      <th>0</th>\n",
       "      <td>851104</td>\n",
       "      <td>2017-01-21 22:11:48.556739</td>\n",
       "      <td>control</td>\n",
       "      <td>old_page</td>\n",
       "      <td>0</td>\n",
       "    </tr>\n",
       "    <tr>\n",
       "      <th>1</th>\n",
       "      <td>804228</td>\n",
       "      <td>2017-01-12 08:01:45.159739</td>\n",
       "      <td>control</td>\n",
       "      <td>old_page</td>\n",
       "      <td>0</td>\n",
       "    </tr>\n",
       "    <tr>\n",
       "      <th>2</th>\n",
       "      <td>661590</td>\n",
       "      <td>2017-01-11 16:55:06.154213</td>\n",
       "      <td>treatment</td>\n",
       "      <td>new_page</td>\n",
       "      <td>0</td>\n",
       "    </tr>\n",
       "  </tbody>\n",
       "</table>\n",
       "</div>"
      ],
      "text/plain": [
       "   user_id                   timestamp      group landing_page  converted\n",
       "0   851104  2017-01-21 22:11:48.556739    control     old_page          0\n",
       "1   804228  2017-01-12 08:01:45.159739    control     old_page          0\n",
       "2   661590  2017-01-11 16:55:06.154213  treatment     new_page          0"
      ]
     },
     "execution_count": 125,
     "metadata": {},
     "output_type": "execute_result"
    }
   ],
   "source": [
    "df = pd.read_csv(\"ab_data.csv\")\n",
    "df.head(3)"
   ]
  },
  {
   "cell_type": "markdown",
   "metadata": {},
   "source": [
    "`1b)`Let's see how many total entries we have in our dataset."
   ]
  },
  {
   "cell_type": "code",
   "execution_count": 126,
   "metadata": {},
   "outputs": [
    {
     "name": "stdout",
     "output_type": "stream",
     "text": [
      "<class 'pandas.core.frame.DataFrame'>\n",
      "RangeIndex: 294478 entries, 0 to 294477\n",
      "Data columns (total 5 columns):\n",
      "user_id         294478 non-null int64\n",
      "timestamp       294478 non-null object\n",
      "group           294478 non-null object\n",
      "landing_page    294478 non-null object\n",
      "converted       294478 non-null int64\n",
      "dtypes: int64(2), object(3)\n",
      "memory usage: 11.2+ MB\n"
     ]
    }
   ],
   "source": [
    "df.info()"
   ]
  },
  {
   "cell_type": "markdown",
   "metadata": {},
   "source": [
    "1c)"
   ]
  },
  {
   "cell_type": "code",
   "execution_count": 127,
   "metadata": {},
   "outputs": [
    {
     "name": "stdout",
     "output_type": "stream",
     "text": [
      "Our dataset contains 290584 unique users.\n"
     ]
    }
   ],
   "source": [
    "uusers = df['user_id'].nunique()\n",
    "\n",
    "print(\"Our dataset contains {} unique users.\".format(uusers))"
   ]
  },
  {
   "cell_type": "markdown",
   "metadata": {},
   "source": [
    "**Interesting!** Let's see when the experiment started and when did it end."
   ]
  },
  {
   "cell_type": "code",
   "execution_count": 128,
   "metadata": {},
   "outputs": [
    {
     "name": "stdout",
     "output_type": "stream",
     "text": [
      "Our experiment started on the 2017-01-02 13:42:05.378582 and has been ended on 2017-01-24 13:41:54.460509\n"
     ]
    }
   ],
   "source": [
    "start = df['timestamp'].min()\n",
    "end = df['timestamp'].max()\n",
    "print('Our experiment started on the {} and has been ended on {}'.format(start,end))"
   ]
  },
  {
   "cell_type": "markdown",
   "metadata": {
    "collapsed": true
   },
   "source": [
    "**Nice!** Whoever did this experiment made sure to capture 22 full days. The StartTime and EndTime are almost the same.\n",
    "\n",
    "1d) Let's see the proportion of users converted."
   ]
  },
  {
   "cell_type": "code",
   "execution_count": 129,
   "metadata": {},
   "outputs": [
    {
     "data": {
      "text/plain": [
       "converted\n",
       "0    0.880341\n",
       "1    0.119659\n",
       "Name: user_id, dtype: float64"
      ]
     },
     "execution_count": 129,
     "metadata": {},
     "output_type": "execute_result"
    }
   ],
   "source": [
    "df.groupby('converted').count()['user_id']/df.count()['user_id']"
   ]
  },
  {
   "cell_type": "code",
   "execution_count": 130,
   "metadata": {},
   "outputs": [
    {
     "data": {
      "text/plain": [
       "converted\n",
       "0    0.881931\n",
       "1    0.121042\n",
       "Name: user_id, dtype: float64"
      ]
     },
     "execution_count": 130,
     "metadata": {},
     "output_type": "execute_result"
    }
   ],
   "source": [
    "df.groupby('converted').nunique()['user_id']/df.nunique()['user_id']"
   ]
  },
  {
   "cell_type": "markdown",
   "metadata": {
    "collapsed": true
   },
   "source": [
    "12% users of our sample data have been converted.\n",
    "\n",
    "**Interesting!** There is a slight difference in the proportion of users that converted when applying count and unique count and it make sense. As we have seen at the previous point there are users for which we collected multiple data points. \n",
    "\n",
    "I believe we can afirm this:\n",
    " - Throughout the experiment **0.121** users converted from the total amount of unique users.\n",
    " - Throughout the experiment **0.119** user's sessions created aconversions from the total amount of sessions.\n",
    "\n",
    "As the second sentence doesn't relate to the number of users but the number of sessions, in my further calculations I will use user unique counts.\n",
    "\n",
    "1e)  `new_page` and `treatment` don't always line up, diving deeper into this."
   ]
  },
  {
   "cell_type": "code",
   "execution_count": 131,
   "metadata": {},
   "outputs": [
    {
     "name": "stdout",
     "output_type": "stream",
     "text": [
      "Looks like 3930,representing 0.013524 % of our entire dataset, times new_page and treatment don't line up!\n"
     ]
    }
   ],
   "source": [
    "treatment_notnew = df.query('group == \"treatment\" & landing_page !=\"new_page\"').nunique()['user_id']\n",
    "nottreatment_new = df.query('group != \"treatment\" & landing_page ==\"new_page\"').nunique()['user_id']\n",
    "diff = treatment_notnew + treatment_notnew\n",
    "\n",
    "prop = diff/df.nunique()['user_id']\n",
    "\n",
    "print(\"Looks like {},representing {:2f} % of our entire dataset, times new_page and treatment don't line up!\".format(diff,prop))"
   ]
  },
  {
   "cell_type": "markdown",
   "metadata": {},
   "source": [
    "1f) Do any of the rows have missing values?"
   ]
  },
  {
   "cell_type": "code",
   "execution_count": 132,
   "metadata": {},
   "outputs": [
    {
     "data": {
      "text/plain": [
       "user_id         0\n",
       "timestamp       0\n",
       "group           0\n",
       "landing_page    0\n",
       "converted       0\n",
       "dtype: int64"
      ]
     },
     "execution_count": 132,
     "metadata": {},
     "output_type": "execute_result"
    }
   ],
   "source": [
    "df.isnull().sum()"
   ]
  },
  {
   "cell_type": "markdown",
   "metadata": {},
   "source": [
    "We do **NOT** have NULL or missing values in our dataframe. \n",
    "\n",
    "But what about duplicated rows?"
   ]
  },
  {
   "cell_type": "code",
   "execution_count": 133,
   "metadata": {},
   "outputs": [
    {
     "name": "stdout",
     "output_type": "stream",
     "text": [
      "Our dataframe contains 0 duplicated rows\n"
     ]
    }
   ],
   "source": [
    "dups = df.duplicated().sum()\n",
    "\n",
    "print(\"Our dataframe contains {} duplicated rows\".format(dups))"
   ]
  },
  {
   "cell_type": "markdown",
   "metadata": {},
   "source": [
    "**Going back a little** We saw that 3930 rows contain are marked as group treatment and the landing page is marked as old. This is less good but it is not critical as it represents only 0.013524 % from our entire dataset.\n",
    "\n",
    "However, I want to understand more about this error. When did it happen? Is this an issue spread throughout our entire data set or is restricted in time?"
   ]
  },
  {
   "cell_type": "code",
   "execution_count": 134,
   "metadata": {},
   "outputs": [
    {
     "data": {
      "text/html": [
       "<div>\n",
       "<style>\n",
       "    .dataframe thead tr:only-child th {\n",
       "        text-align: right;\n",
       "    }\n",
       "\n",
       "    .dataframe thead th {\n",
       "        text-align: left;\n",
       "    }\n",
       "\n",
       "    .dataframe tbody tr th {\n",
       "        vertical-align: top;\n",
       "    }\n",
       "</style>\n",
       "<table border=\"1\" class=\"dataframe\">\n",
       "  <thead>\n",
       "    <tr style=\"text-align: right;\">\n",
       "      <th></th>\n",
       "      <th>user_id</th>\n",
       "      <th>timestamp</th>\n",
       "      <th>group</th>\n",
       "      <th>landing_page</th>\n",
       "      <th>converted</th>\n",
       "    </tr>\n",
       "  </thead>\n",
       "  <tbody>\n",
       "    <tr>\n",
       "      <th>22</th>\n",
       "      <td>767017</td>\n",
       "      <td>2017-01-12 22:58:14.991443</td>\n",
       "      <td>control</td>\n",
       "      <td>new_page</td>\n",
       "      <td>0</td>\n",
       "    </tr>\n",
       "    <tr>\n",
       "      <th>240</th>\n",
       "      <td>733976</td>\n",
       "      <td>2017-01-11 15:11:16.407599</td>\n",
       "      <td>control</td>\n",
       "      <td>new_page</td>\n",
       "      <td>0</td>\n",
       "    </tr>\n",
       "  </tbody>\n",
       "</table>\n",
       "</div>"
      ],
      "text/plain": [
       "     user_id                   timestamp    group landing_page  converted\n",
       "22    767017  2017-01-12 22:58:14.991443  control     new_page          0\n",
       "240   733976  2017-01-11 15:11:16.407599  control     new_page          0"
      ]
     },
     "execution_count": 134,
     "metadata": {},
     "output_type": "execute_result"
    }
   ],
   "source": [
    "error_set = df.query('group == \"treatment\" & landing_page !=\"new_page\" | group != \"treatment\" & landing_page ==\"new_page\"' )\n",
    "error_set.head(2)"
   ]
  },
  {
   "cell_type": "code",
   "execution_count": 135,
   "metadata": {},
   "outputs": [
    {
     "name": "stdout",
     "output_type": "stream",
     "text": [
      "The ERROR started on the 2017-01-02 13:55:08.790046 and has been ended on 2017-01-24 13:41:18.869978\n"
     ]
    }
   ],
   "source": [
    "start_error_set = error_set['timestamp'].min()\n",
    "end_error_set = error_set['timestamp'].max()\n",
    "print('The ERROR started on the {} and has been ended on {}'.format(start_error_set,end_error_set))"
   ]
  },
  {
   "cell_type": "markdown",
   "metadata": {},
   "source": [
    "**OK**, the error is spread through our entire dataset but does it have the same proportion of \"converted users\" as my entire dataset? "
   ]
  },
  {
   "cell_type": "code",
   "execution_count": 136,
   "metadata": {},
   "outputs": [
    {
     "data": {
      "text/plain": [
       "converted\n",
       "0    0.875674\n",
       "1    0.124326\n",
       "Name: user_id, dtype: float64"
      ]
     },
     "execution_count": 136,
     "metadata": {},
     "output_type": "execute_result"
    }
   ],
   "source": [
    "error_set.groupby('converted').nunique()['user_id']/error_set.nunique()['user_id']"
   ]
  },
  {
   "cell_type": "markdown",
   "metadata": {},
   "source": [
    "In the ERROR dataframe I see **12.4%** conversions which is very close to the number computed for my dataframe (**12.1%**). This means that if I take down the corrupted data points I will not disrupt the chances of \"success\" for any of the two pages.\n",
    "\n",
    "\n",
    "Later on I will drop the rows that seemed to have been corrupted."
   ]
  },
  {
   "cell_type": "markdown",
   "metadata": {},
   "source": [
    "**Interesting** \n",
    "\n",
    "Before going forward I want to check if both pages were Up and running for the length of the experiment. I am transposing this verification into seeing that for each day of the experiment we have a proportion for both conversions on the old page and conversions on the new page. "
   ]
  },
  {
   "cell_type": "code",
   "execution_count": 137,
   "metadata": {
    "collapsed": true
   },
   "outputs": [],
   "source": [
    "#creating my day column\n",
    "df['timestamp'] = pd.to_datetime(df['timestamp'])\n",
    "df['day'] = df['timestamp'].dt.day\n",
    "\n",
    "#creating my dataframe for converted users\n",
    "df_converted = df.query('converted == 1 & timestamp > \"2017-01-03 00:00:00.00\" & timestamp < \"2017-01-24 00:00:00.00\"')\n"
   ]
  },
  {
   "cell_type": "code",
   "execution_count": 138,
   "metadata": {},
   "outputs": [
    {
     "data": {
      "image/png": "[encoded data removed]",
      "text/plain": [
       "<matplotlib.figure.Figure at 0x2b4553f3278>"
      ]
     },
     "metadata": {},
     "output_type": "display_data"
    }
   ],
   "source": [
    "#create counts for proportions\n",
    "df_landed_day = df_converted.groupby(['landing_page','day']).nunique()['user_id']\n",
    "df_day = df_converted.groupby(['landing_page']).nunique()['user_id']\n",
    "\n",
    "#define proportions\n",
    "oldpage_prop = df_landed_day['old_page'] / df_day['old_page']*100\n",
    "newpage_prop = df_landed_day['new_page'] / df_day['new_page']*100\n",
    "\n",
    "ind = np.arange(len(oldpage_prop))  # the x locations for the groups\n",
    "width = 0.15       # the width of the bars\n",
    "\n",
    "# plot lines\n",
    "plt.plot(ind,oldpage_prop,label='OldPage',color='b', alpha=.9)\n",
    "plt.plot(ind,newpage_prop,label='NewPage',color='r', alpha=.9);\n",
    "\n",
    "\n",
    "\n",
    "# title and labels\n",
    "plt.ylabel('Proportion of Conversions per day')\n",
    "plt.xlabel('Experiment Day')\n",
    "plt.title('Proportion Converted users over time')\n",
    "locations = ind + width / 2  # xtick locations\n",
    "labels = ['d1', 'd2', 'd3', 'd4', 'd5', 'd6', 'd7','d8','d9','d10','d11','d12','d13','d14','d15','d16','d17','d18','d19','d20','d21','d22']  # xtick labels\n",
    "plt.xticks(locations, labels)\n",
    "\n",
    "# legend\n",
    "plt.legend();"
   ]
  },
  {
   "cell_type": "markdown",
   "metadata": {},
   "source": [
    "And indeed the two pages were **up and running each day of our experiment**. \n",
    "\n",
    "*The graph also provides us an overview of how the conversions are spread inside the interval.\n",
    "We can see that each day of the experiment created about the same proportion of conversions for both pages.*"
   ]
  },
  {
   "cell_type": "markdown",
   "metadata": {},
   "source": [
    "`2 a) Here,` For the rows where **treatment** is not aligned with **new_page** or **control** is not aligned with **old_page**, we cannot be sure if this row truly received the new or old page. Therefore, I am dropping the rows and verify that I did it correctly."
   ]
  },
  {
   "cell_type": "code",
   "execution_count": 139,
   "metadata": {
    "collapsed": true
   },
   "outputs": [],
   "source": [
    "df2 = df.query('group == \"treatment\" & landing_page ==\"new_page\" | group == \"control\" & landing_page ==\"old_page\"' )"
   ]
  },
  {
   "cell_type": "code",
   "execution_count": 140,
   "metadata": {},
   "outputs": [
    {
     "data": {
      "text/plain": [
       "0"
      ]
     },
     "execution_count": 140,
     "metadata": {},
     "output_type": "execute_result"
    }
   ],
   "source": [
    "# Double Check all of the correct rows were removed - this should be 0\n",
    "df2[((df2['group'] == 'treatment') == (df2['landing_page'] == 'new_page')) == False].shape[0]"
   ]
  },
  {
   "cell_type": "markdown",
   "metadata": {},
   "source": [
    "`3a) Check` if the number of unique users is the same as the number of sessions in our new dataframe."
   ]
  },
  {
   "cell_type": "code",
   "execution_count": 141,
   "metadata": {},
   "outputs": [
    {
     "name": "stdout",
     "output_type": "stream",
     "text": [
      "Now, in df2 we have 290584 unique users and a total of 290585 sessions.\n"
     ]
    }
   ],
   "source": [
    "users = df2.nunique()['user_id'] \n",
    "sessions = df2.count()['user_id'] \n",
    "print('Now, in df2 we have {} unique users and a total of {} sessions.'.format(users,sessions))"
   ]
  },
  {
   "cell_type": "markdown",
   "metadata": {
    "collapsed": true
   },
   "source": [
    "3 b & c) the numbers don't line up for one entry. Which user has two entries?"
   ]
  },
  {
   "cell_type": "code",
   "execution_count": 142,
   "metadata": {},
   "outputs": [
    {
     "data": {
      "text/html": [
       "<div>\n",
       "<style>\n",
       "    .dataframe thead tr:only-child th {\n",
       "        text-align: right;\n",
       "    }\n",
       "\n",
       "    .dataframe thead th {\n",
       "        text-align: left;\n",
       "    }\n",
       "\n",
       "    .dataframe tbody tr th {\n",
       "        vertical-align: top;\n",
       "    }\n",
       "</style>\n",
       "<table border=\"1\" class=\"dataframe\">\n",
       "  <thead>\n",
       "    <tr style=\"text-align: right;\">\n",
       "      <th></th>\n",
       "      <th>user_id</th>\n",
       "      <th>timestamp</th>\n",
       "      <th>group</th>\n",
       "      <th>landing_page</th>\n",
       "      <th>converted</th>\n",
       "      <th>day</th>\n",
       "    </tr>\n",
       "  </thead>\n",
       "  <tbody>\n",
       "    <tr>\n",
       "      <th>1899</th>\n",
       "      <td>773192</td>\n",
       "      <td>2017-01-09 05:37:58.781806</td>\n",
       "      <td>treatment</td>\n",
       "      <td>new_page</td>\n",
       "      <td>0</td>\n",
       "      <td>9</td>\n",
       "    </tr>\n",
       "    <tr>\n",
       "      <th>2893</th>\n",
       "      <td>773192</td>\n",
       "      <td>2017-01-14 02:55:59.590927</td>\n",
       "      <td>treatment</td>\n",
       "      <td>new_page</td>\n",
       "      <td>0</td>\n",
       "      <td>14</td>\n",
       "    </tr>\n",
       "  </tbody>\n",
       "</table>\n",
       "</div>"
      ],
      "text/plain": [
       "      user_id                  timestamp      group landing_page  converted  \\\n",
       "1899   773192 2017-01-09 05:37:58.781806  treatment     new_page          0   \n",
       "2893   773192 2017-01-14 02:55:59.590927  treatment     new_page          0   \n",
       "\n",
       "      day  \n",
       "1899    9  \n",
       "2893   14  "
      ]
     },
     "execution_count": 142,
     "metadata": {},
     "output_type": "execute_result"
    }
   ],
   "source": [
    "dup_user = df2.groupby('user_id')\n",
    "dup_user.filter(lambda x: len(x) > 1)\n"
   ]
  },
  {
   "cell_type": "markdown",
   "metadata": {},
   "source": [
    "3d) Let's drop one of the rows of our duplicated user_id and verify our operation."
   ]
  },
  {
   "cell_type": "code",
   "execution_count": 143,
   "metadata": {},
   "outputs": [
    {
     "name": "stderr",
     "output_type": "stream",
     "text": [
      "C:\\ProgramData\\Anaconda3\\lib\\site-packages\\ipykernel_launcher.py:1: SettingWithCopyWarning: \n",
      "A value is trying to be set on a copy of a slice from a DataFrame\n",
      "\n",
      "See the caveats in the documentation: http://pandas.pydata.org/pandas-docs/stable/indexing.html#indexing-view-versus-copy\n",
      "  \"\"\"Entry point for launching an IPython kernel.\n"
     ]
    },
    {
     "data": {
      "text/html": [
       "<div>\n",
       "<style>\n",
       "    .dataframe thead tr:only-child th {\n",
       "        text-align: right;\n",
       "    }\n",
       "\n",
       "    .dataframe thead th {\n",
       "        text-align: left;\n",
       "    }\n",
       "\n",
       "    .dataframe tbody tr th {\n",
       "        vertical-align: top;\n",
       "    }\n",
       "</style>\n",
       "<table border=\"1\" class=\"dataframe\">\n",
       "  <thead>\n",
       "    <tr style=\"text-align: right;\">\n",
       "      <th></th>\n",
       "      <th>user_id</th>\n",
       "      <th>timestamp</th>\n",
       "      <th>group</th>\n",
       "      <th>landing_page</th>\n",
       "      <th>converted</th>\n",
       "      <th>day</th>\n",
       "    </tr>\n",
       "  </thead>\n",
       "  <tbody>\n",
       "    <tr>\n",
       "      <th>1899</th>\n",
       "      <td>773192</td>\n",
       "      <td>2017-01-09 05:37:58.781806</td>\n",
       "      <td>treatment</td>\n",
       "      <td>new_page</td>\n",
       "      <td>0</td>\n",
       "      <td>9</td>\n",
       "    </tr>\n",
       "  </tbody>\n",
       "</table>\n",
       "</div>"
      ],
      "text/plain": [
       "      user_id                  timestamp      group landing_page  converted  \\\n",
       "1899   773192 2017-01-09 05:37:58.781806  treatment     new_page          0   \n",
       "\n",
       "      day  \n",
       "1899    9  "
      ]
     },
     "execution_count": 143,
     "metadata": {},
     "output_type": "execute_result"
    }
   ],
   "source": [
    "df2.drop(2893, inplace = True)\n",
    "df2.query('user_id == 773192')"
   ]
  },
  {
   "cell_type": "markdown",
   "metadata": {},
   "source": [
    "4a) In the next section I am calculating high level probabilities of our dataset, understading if the overall results of the experiment could be significant."
   ]
  },
  {
   "cell_type": "code",
   "execution_count": 144,
   "metadata": {},
   "outputs": [
    {
     "name": "stdout",
     "output_type": "stream",
     "text": [
      "The probability of someone converting, disregaring the page he/she visited is 0.119597\n"
     ]
    }
   ],
   "source": [
    "p_conv = df2['converted'].mean()\n",
    "\n",
    "print('The probability of someone converting, disregaring the page he/she visited is {:2f}'.format(p_conv))"
   ]
  },
  {
   "cell_type": "markdown",
   "metadata": {},
   "source": [
    "4b)"
   ]
  },
  {
   "cell_type": "code",
   "execution_count": 145,
   "metadata": {},
   "outputs": [
    {
     "name": "stdout",
     "output_type": "stream",
     "text": [
      "The probability of someone converting given that an individual was in the control group, disregaring the page he/she visited is 0.120386\n"
     ]
    }
   ],
   "source": [
    "p_control = df2.query('group == \"control\"').count()['user_id']/df2.count()['user_id']\n",
    "p_control_converted = df2.query('group == \"control\" & converted == 1').count()['user_id']/df2.query('group == \"control\"').count()['user_id']\n",
    "\n",
    "print('The probability of someone converting given that an individual was in the control group, disregaring the page he/she visited is {:2f}'.format(p_control_converted))"
   ]
  },
  {
   "cell_type": "markdown",
   "metadata": {},
   "source": [
    "4c)"
   ]
  },
  {
   "cell_type": "code",
   "execution_count": 146,
   "metadata": {},
   "outputs": [
    {
     "name": "stdout",
     "output_type": "stream",
     "text": [
      "The probability of someone converting given that an individual was in the treatment group, disregaring the page he/she visited is 0.118808\n"
     ]
    }
   ],
   "source": [
    "p_treatment_converted = df2.query('group == \"treatment\" & converted == 1').count()['user_id']/df2.query('group == \"treatment\"').count()['user_id']\n",
    "print('The probability of someone converting given that an individual was in the treatment group, disregaring the page he/she visited is {:2f}'.format(p_treatment_converted))\n"
   ]
  },
  {
   "cell_type": "markdown",
   "metadata": {},
   "source": [
    "**Actual Observed difference** "
   ]
  },
  {
   "cell_type": "code",
   "execution_count": 147,
   "metadata": {},
   "outputs": [
    {
     "data": {
      "text/plain": [
       "-0.0015782389853555567"
      ]
     },
     "execution_count": 147,
     "metadata": {},
     "output_type": "execute_result"
    }
   ],
   "source": [
    "actual_obs_diff = p_treatment_converted - p_control_converted\n",
    "actual_obs_diff"
   ]
  },
  {
   "cell_type": "markdown",
   "metadata": {},
   "source": [
    "4d)"
   ]
  },
  {
   "cell_type": "code",
   "execution_count": 148,
   "metadata": {},
   "outputs": [
    {
     "name": "stdout",
     "output_type": "stream",
     "text": [
      "The probability of someone landing on the New page is 0.500062\n"
     ]
    }
   ],
   "source": [
    "p_newpage = df2.query('landing_page == \"new_page\"').count()['user_id']/df2.count()['user_id']\n",
    "print('The probability of someone landing on the New page is {:2f}'.format(p_newpage))\n"
   ]
  },
  {
   "cell_type": "markdown",
   "metadata": {},
   "source": [
    "4e)\n",
    "\n",
    "**Conclusion so far!** At this point we understand that both the New page and the Old page are properly represented in the experiment. Both pages were exposed to the same amount of traffic. \n",
    "- the total number of converted user on both pages is 12%\n",
    "- the number of converted users from control group is about 12%\n",
    "- the number of converted users from treatment group is a little under 12%\n",
    "\n",
    "As this numbers came so close to one another we would retain from making suggestions to compare the two pages.\n",
    "Furthermore, the graph I am presenting above, **The proporion of converted users by day**, is very similar for the 2 pages, with fluctuations in the 4.4 to 5.2% interval across the entire length of the experiment.\n"
   ]
  },
  {
   "cell_type": "markdown",
   "metadata": {},
   "source": [
    "<a id='ab_test'></a>\n",
    "### Part II - A/B Test\n",
    "\n",
    "\n",
    "\n",
    "\n",
    "\n"
   ]
  },
  {
   "cell_type": "markdown",
   "metadata": {},
   "source": [
    "1. For now, consider you need to make the decision just based on all the data provided. If you want to assume that the old page is better unless the new page proves to be definitely better at a Type I error rate of 5%, what should your null and alternative hypotheses be? You can state your hypothesis in terms of words or in terms of  **$p_{old}$**  and  **$p_{new}$** , which are the converted rates for the old and new pages.\n",
    " \n",
    " NULL Hypthesis - We assume that the OLD page has a greater number of converstions\n",
    " \n",
    " ALTERNATIVE Hypothesis - The NEW page has a greater number of converstions\n",
    " \n",
    " The hypothesis, **in mathematical equations**, will look as follows:\n",
    " \n",
    "  - NULL Hypothesis:        **$p_{old}$** - **$p_{new}$** => 0\n",
    " \n",
    "  - ALTERNATIVE Hypothesis: **$p_{old}$** - **$p_{new}$** < 0\n",
    "  \n",
    "  \n",
    "Based on the data computed previously we can see that **$p_{old}$** is greater than **$p_{new}$**. This implies that the mathematical equation for the NULL Hypothesis is TRUE and therefore we are entitled to say that we *fail to reject the NULL*. \n",
    "\n",
    "**$p_{old}$** = 0.120386 / \n",
    "**$p_{new}$** = 0.118808 / \n",
    "**actual_obs_diff** = -0.001578\n"
   ]
  },
  {
   "cell_type": "markdown",
   "metadata": {},
   "source": [
    " **A/B Testing defining the NULL and ALTERNATIVE Hypthesis**\n",
    "\n",
    "\n",
    "\n",
    "  The **metric** I choose to measure \"success\" is the difference in means for the proportions over the entire period of the experiment. The proportion is calculated between the number of users who viewed the page and converted over the number of users  who only viewed the page. \n",
    " \n",
    " The hypothesis, in mathematical equations, will look as follows:\n",
    " \n",
    " NULL Hypothesis:        **$p_{old}$** = **$p_{new}$**\n",
    " \n",
    " ALTERNATIVE Hypothesis: **$p_{old}$** <> **$p_{new}$**\n",
    " \n",
    " The *NULL hypothesis* is the actual state and it doesn't have to be proven. The NULL Hypothesis is valid before we collect any data, before any analysis is being made. \n",
    "\n",
    " The *ALTERNATIVE* hypothesis, needs to be proven trough statistical evidence in order to be adopted.\n",
    "\n",
    " **Type I Error**. The Type I Error is the error when the ALTERNATIVE hypothesis is chosen while the NULL hypothesis is true. The type I error is also known as the margin of error or the amount of false negative. For this experiment I am accepting a type 1 error of 5%."
   ]
  },
  {
   "cell_type": "markdown",
   "metadata": {},
   "source": [
    "2) I am assuming under the null hypothesis, $p_{new}$ and $p_{old}$ both have \"true\" success rates equal to the **converted** success rate regardless of page - that is $p_{new}$ and $p_{old}$ are equal. Furthermore, assume they are equal to the **converted** rate in **ab_data.csv** regardless of the page. <br><br>\n",
    "\n",
    "NULL Hypothesis:  $p_{old}$ - $p_{new}$ >= 0\n",
    "\n",
    "ALTERNATIVE Hypothesis: $p_{old}$ - $p_{new}$ < 0\n"
   ]
  },
  {
   "cell_type": "markdown",
   "metadata": {},
   "source": [
    "a) **convert rate** for $p_{new}$ under the null."
   ]
  },
  {
   "cell_type": "code",
   "execution_count": 149,
   "metadata": {},
   "outputs": [
    {
     "data": {
      "text/plain": [
       "0.11959708724499628"
      ]
     },
     "execution_count": 149,
     "metadata": {},
     "output_type": "execute_result"
    }
   ],
   "source": [
    "p_new = df2['converted'].mean() \n",
    "p_new"
   ]
  },
  {
   "cell_type": "markdown",
   "metadata": {},
   "source": [
    "b) **convert rate** for $p_{old}$ under the null"
   ]
  },
  {
   "cell_type": "code",
   "execution_count": 150,
   "metadata": {},
   "outputs": [
    {
     "data": {
      "text/plain": [
       "0.11959708724499628"
      ]
     },
     "execution_count": 150,
     "metadata": {},
     "output_type": "execute_result"
    }
   ],
   "source": [
    "p_old = df2['converted'].mean()\n",
    "p_old"
   ]
  },
  {
   "cell_type": "markdown",
   "metadata": {},
   "source": [
    "c) Calculating $n_{new}$ as the number of users landing on the New page."
   ]
  },
  {
   "cell_type": "code",
   "execution_count": 151,
   "metadata": {},
   "outputs": [
    {
     "data": {
      "text/plain": [
       "145310"
      ]
     },
     "execution_count": 151,
     "metadata": {},
     "output_type": "execute_result"
    }
   ],
   "source": [
    "\n",
    "n_new = df2.query('landing_page == \"new_page\"').nunique()['user_id']\n",
    "n_new\n"
   ]
  },
  {
   "cell_type": "markdown",
   "metadata": {},
   "source": [
    "d) Calculating $n_{old}$ as the number of users landing on the Old page."
   ]
  },
  {
   "cell_type": "code",
   "execution_count": 152,
   "metadata": {},
   "outputs": [
    {
     "data": {
      "text/plain": [
       "145274"
      ]
     },
     "execution_count": 152,
     "metadata": {},
     "output_type": "execute_result"
    }
   ],
   "source": [
    "n_old = df2.query('landing_page == \"old_page\"').nunique()['user_id']\n",
    "n_old"
   ]
  },
  {
   "cell_type": "markdown",
   "metadata": {},
   "source": [
    "e) Simulating $n_{new}$ transactions with a convert rate of $p_{new}$ under the null.  Store these $n_{new}$ 1's and 0's in **new_page_converted**."
   ]
  },
  {
   "cell_type": "code",
   "execution_count": 153,
   "metadata": {},
   "outputs": [
    {
     "data": {
      "text/plain": [
       "array([0, 0, 1, ..., 1, 0, 0])"
      ]
     },
     "execution_count": 153,
     "metadata": {},
     "output_type": "execute_result"
    }
   ],
   "source": [
    "#creating the binomial distribution for the New page\n",
    "new_page_converted = np.random.binomial(1, p_new,n_new)\n",
    "new_page_converted"
   ]
  },
  {
   "cell_type": "markdown",
   "metadata": {},
   "source": [
    "f) Simulating $n_{old}$ transactions with a convert rate of $p_{old}$ under the null.  Store these $n_{old}$ 1's and 0's in **old_page_converted**."
   ]
  },
  {
   "cell_type": "code",
   "execution_count": 154,
   "metadata": {},
   "outputs": [
    {
     "data": {
      "text/plain": [
       "array([0, 0, 0, ..., 0, 0, 0])"
      ]
     },
     "execution_count": 154,
     "metadata": {},
     "output_type": "execute_result"
    }
   ],
   "source": [
    "#creating the binomial distribution for the Old page\n",
    "old_page_converted = np.random.binomial(1, p_old,n_old)\n",
    "old_page_converted"
   ]
  },
  {
   "cell_type": "markdown",
   "metadata": {},
   "source": [
    "g) Find $p_{new}$ - $p_{old}$ for the simulated values created earlier."
   ]
  },
  {
   "cell_type": "code",
   "execution_count": 155,
   "metadata": {},
   "outputs": [
    {
     "data": {
      "text/plain": [
       "-0.00049058784071898121"
      ]
     },
     "execution_count": 155,
     "metadata": {},
     "output_type": "execute_result"
    }
   ],
   "source": [
    "obs_diff = new_page_converted.mean() - old_page_converted.mean()\n",
    "obs_diff"
   ]
  },
  {
   "cell_type": "markdown",
   "metadata": {},
   "source": [
    "h) Reapeating the process 10,000 for $p_{new}$ - $p_{old}$ values using this same process similarly to the one I calculated  above.  Store all 10,000 values in a numpy array called **p_diffs**."
   ]
  },
  {
   "cell_type": "code",
   "execution_count": 156,
   "metadata": {
    "collapsed": true
   },
   "outputs": [],
   "source": [
    "p_diffs = []\n",
    "\n",
    "new_converted_simulation = np.random.binomial(n_new, p_new,  10000)/n_new\n",
    "old_converted_simulation = np.random.binomial(n_old, p_old,  10000)/n_old\n",
    "p_diffs = new_converted_simulation - old_converted_simulation\n",
    "\n",
    "p_diffs = np.array(p_diffs)   "
   ]
  },
  {
   "cell_type": "markdown",
   "metadata": {},
   "source": [
    " Ploting a histogram of the **p_diffs**.  \n",
    " \n",
    "i) And indeed, we were expecting to see a *NORMAL DISTRIBUTION* of samples. We were expecting this results as the **Central Limit Theorem** which states that with a large enough number of samples, the sample of the mean is normally distributed."
   ]
  },
  {
   "cell_type": "code",
   "execution_count": 157,
   "metadata": {},
   "outputs": [
    {
     "data": {
      "image/png": "[encoded data removed]",
      "text/plain": [
       "<matplotlib.figure.Figure at 0x2b4553d59b0>"
      ]
     },
     "metadata": {},
     "output_type": "display_data"
    }
   ],
   "source": [
    "plt.hist(p_diffs);"
   ]
  },
  {
   "cell_type": "markdown",
   "metadata": {},
   "source": [
    "j) To compute what proportion of the **p_diffs** are greater than the actual difference observed in **ab_data.csv** I will simulate a NORMAL DISTRIBUTION from the NULL but keeping it's standard deviation and size as the values I have computed earlier.\n",
    "\n",
    "I am adding the obbserved differences as reference lines to compute later on the p_value. The **p_value** is the probability, when the NULL Hypthesis is true, of obtaining the observed statistics in favor of the ALTERNATIVE."
   ]
  },
  {
   "cell_type": "code",
   "execution_count": 158,
   "metadata": {},
   "outputs": [
    {
     "data": {
      "image/png": "[encoded data removed]",
      "text/plain": [
       "<matplotlib.figure.Figure at 0x2b456a2d748>"
      ]
     },
     "metadata": {},
     "output_type": "display_data"
    }
   ],
   "source": [
    "#simulating from the NULL\n",
    "null_valls = np.random.normal(0,p_diffs.std(),p_diffs.size)\n",
    "plt.hist(null_valls);\n",
    "plt.axvline(x=actual_obs_diff, color = 'g', linewidth = 1);"
   ]
  },
  {
   "cell_type": "code",
   "execution_count": 159,
   "metadata": {},
   "outputs": [
    {
     "data": {
      "text/plain": [
       "0.90139999999999998"
      ]
     },
     "execution_count": 159,
     "metadata": {},
     "output_type": "execute_result"
    }
   ],
   "source": [
    "#caluculating the p_value with respect to the actual difference observed (4b&4c) \n",
    "\n",
    "null_mean = 0\n",
    "p_value = (null_valls > actual_obs_diff).mean() \n",
    "p_value"
   ]
  },
  {
   "cell_type": "markdown",
   "metadata": {},
   "source": [
    "**Answer!** \n",
    "\n",
    "Based on the statistical evidence we gathered, we **fail to reject the NULL hypothesis** and my recommendation is that launching the NEW page will not create a significant difference in converting users.\n",
    "\n",
    "However, there is a 20% chance that we see the ALTERNATIVE hypothesis occuring, represented in the two extremes of the distribution."
   ]
  },
  {
   "cell_type": "markdown",
   "metadata": {},
   "source": [
    "**Another approach for Hypothesis testing using statsmodels (proportions_ztest)**\n",
    "\n",
    "When someone visits either landing page, they either checkout or not. This makes the problem binomial so we can compare the two proportions to see if one landing page might be better than another.\n",
    "\n",
    "l)"
   ]
  },
  {
   "cell_type": "code",
   "execution_count": 160,
   "metadata": {},
   "outputs": [
    {
     "name": "stdout",
     "output_type": "stream",
     "text": [
      "17489 17264 145274 145310 prop_old = 0.1203863045004612, prop_new = 0.11880806551510564\n"
     ]
    }
   ],
   "source": [
    "import statsmodels.api as sm\n",
    "\n",
    "convert_old = df2.query('landing_page == \"old_page\"')['converted'].sum()\n",
    "convert_new = df2.query('landing_page == \"new_page\"')['converted'].sum()\n",
    "n_old = df2.query('landing_page == \"old_page\"').nunique()['user_id']\n",
    "n_new = df2.query('landing_page == \"new_page\"').nunique()['user_id']\n",
    "\n",
    "print(convert_old,convert_new,n_old,n_new,'prop_old = {}, prop_new = {}'.format(convert_old/n_old,convert_new/n_new))"
   ]
  },
  {
   "cell_type": "markdown",
   "metadata": {},
   "source": [
    " `stats.proportions_ztest` to compute your test statistic and p-value.  [Here](http://knowledgetack.com/python/statsmodels/proportions_ztest/) \n",
    " \n",
    "m) The Hypothesis for proportions_ztest are defined same as ours:\n",
    "\n",
    " - The null hypothesis is that there is no difference between the two proportions.\n",
    " - The alternative is that there is a statistical difference between the two proportions.\n",
    " \n",
    "Using the proportions_ztest from statsmodels, it returns a z-score and a p-value. By default, proportions_ztest has a parameter alternative='two-sided' which checks for the difference between. "
   ]
  },
  {
   "cell_type": "code",
   "execution_count": 161,
   "metadata": {},
   "outputs": [
    {
     "name": "stdout",
     "output_type": "stream",
     "text": [
      "Z-score is: 1.3109241984234394\n",
      "p_value is: 0.9050583127590245\n",
      "norm_zscore:  0.905058312759\n",
      "norm_ppf:  1.95996398454\n"
     ]
    }
   ],
   "source": [
    "z_score, p_value = sm.stats.proportions_ztest([convert_old, convert_new], [n_old, n_new],alternative='smaller')\n",
    "\n",
    "print('Z-score is: {}'.format(z_score))\n",
    "print('p_value is: {}'.format(p_value))\n",
    "\n",
    "from scipy.stats import norm\n",
    "\n",
    "print('norm_zscore:  ' + str(norm.cdf(z_score)))\n",
    "print('norm_ppf:  ' +str(norm.ppf(1-(0.05/2))))\n"
   ]
  },
  {
   "cell_type": "markdown",
   "metadata": {},
   "source": [
    "Since the z-score of 1.3109241984234394 does **NOT exceed** the critical value of 1.959963984540054, we **fail to reject the null hypothesis** that the difference between the two proportions is no different from zero. Since they are **NOT** different, there is no page with a higher ratio of success better than the other.\n",
    "\n",
    "\n",
    "n) Yes, the p_values are very similar.\n",
    "- z_test 0.905\n",
    "- hypothesis 0.892\n",
    "\n"
   ]
  },
  {
   "cell_type": "markdown",
   "metadata": {},
   "source": [
    "<a id='regression'></a>\n",
    "### Part III - A regression approach\n"
   ]
  },
  {
   "cell_type": "markdown",
   "metadata": {},
   "source": [
    " Another aproach to this scenario is to use a **Logistic Regression**. Logistic regressions show the probability of an event occuring, predicting only two possible outcomes. Logistic Regressions are commonly used in scenarios like assesing if a transaction is fraud or not, if a purchase has been made or not, if an individual is compatible for a lown or not.\n",
    "\n",
    "I will use the *statsmodels* lybrary in Python to create my Logit model, fit it and explain the results.\n",
    "The *Response variable* in our case will be the *Converted* column, which represent the event of a user converting.\n",
    "The *Explanatory variable* will be the landing_page column as the goal of our test is finding which of the two websites is more likely to produce conversions.\n",
    "\n",
    "In my logistic model I will use an Intercept. The intercept represent the value of the *Response variable*  when the *Explanatory variable* is 0. The explanatory variable is a categorical, having values as the \"new_page\" and \"old_page\".\n",
    "In order to integrate this information in my logistic model I will create below dummy columns. \n",
    "\n",
    "\n",
    "The column fitting the logistic model can NOT be infered(one deducted from the other). Therefore, I will create a singel column with the value of 1 for the new_page (same thing as treatment in the control group).\n",
    "\n"
   ]
  },
  {
   "cell_type": "code",
   "execution_count": 162,
   "metadata": {},
   "outputs": [
    {
     "name": "stderr",
     "output_type": "stream",
     "text": [
      "C:\\ProgramData\\Anaconda3\\lib\\site-packages\\ipykernel_launcher.py:2: SettingWithCopyWarning: \n",
      "A value is trying to be set on a copy of a slice from a DataFrame.\n",
      "Try using .loc[row_indexer,col_indexer] = value instead\n",
      "\n",
      "See the caveats in the documentation: http://pandas.pydata.org/pandas-docs/stable/indexing.html#indexing-view-versus-copy\n",
      "  \n",
      "C:\\ProgramData\\Anaconda3\\lib\\site-packages\\pandas\\core\\frame.py:2450: SettingWithCopyWarning: \n",
      "A value is trying to be set on a copy of a slice from a DataFrame.\n",
      "Try using .loc[row_indexer,col_indexer] = value instead\n",
      "\n",
      "See the caveats in the documentation: http://pandas.pydata.org/pandas-docs/stable/indexing.html#indexing-view-versus-copy\n",
      "  self[k1] = value[k2]\n"
     ]
    }
   ],
   "source": [
    "#adding the intercept to my dataframe\n",
    "df2['intercept'] = 1\n",
    "\n",
    "#creating dummy variables\n",
    "df2[['ab_page','ab_page2']] = pd.get_dummies(df2['landing_page'])\n"
   ]
  },
  {
   "cell_type": "markdown",
   "metadata": {},
   "source": [
    " Using **statsmodels** to import and fit my logistic regression model. "
   ]
  },
  {
   "cell_type": "code",
   "execution_count": 163,
   "metadata": {},
   "outputs": [
    {
     "name": "stdout",
     "output_type": "stream",
     "text": [
      "Optimization terminated successfully.\n",
      "         Current function value: 0.366118\n",
      "         Iterations 6\n"
     ]
    }
   ],
   "source": [
    "#creating and fitting the Logistic Regression model\n",
    "logit_mod = sm.Logit(df2['converted'],df2[['intercept','ab_page']])\n",
    "results = logit_mod.fit()\n"
   ]
  },
  {
   "cell_type": "markdown",
   "metadata": {},
   "source": [
    "Below is the Summary of my Regression model."
   ]
  },
  {
   "cell_type": "code",
   "execution_count": 164,
   "metadata": {},
   "outputs": [
    {
     "data": {
      "text/html": [
       "<table class=\"simpletable\">\n",
       "<caption>Logit Regression Results</caption>\n",
       "<tr>\n",
       "  <th>Dep. Variable:</th>     <td>converted</td>    <th>  No. Observations:  </th>   <td>290584</td>   \n",
       "</tr>\n",
       "<tr>\n",
       "  <th>Model:</th>               <td>Logit</td>      <th>  Df Residuals:      </th>   <td>290582</td>   \n",
       "</tr>\n",
       "<tr>\n",
       "  <th>Method:</th>               <td>MLE</td>       <th>  Df Model:          </th>   <td>     1</td>   \n",
       "</tr>\n",
       "<tr>\n",
       "  <th>Date:</th>          <td>Mon, 15 Jan 2018</td> <th>  Pseudo R-squ.:     </th>  <td>8.077e-06</td> \n",
       "</tr>\n",
       "<tr>\n",
       "  <th>Time:</th>              <td>11:42:59</td>     <th>  Log-Likelihood:    </th> <td>-1.0639e+05</td>\n",
       "</tr>\n",
       "<tr>\n",
       "  <th>converged:</th>           <td>True</td>       <th>  LL-Null:           </th> <td>-1.0639e+05</td>\n",
       "</tr>\n",
       "<tr>\n",
       "  <th> </th>                      <td> </td>        <th>  LLR p-value:       </th>   <td>0.1899</td>   \n",
       "</tr>\n",
       "</table>\n",
       "<table class=\"simpletable\">\n",
       "<tr>\n",
       "      <td></td>         <th>coef</th>     <th>std err</th>      <th>z</th>      <th>P>|z|</th>  <th>[0.025</th>    <th>0.975]</th>  \n",
       "</tr>\n",
       "<tr>\n",
       "  <th>intercept</th> <td>   -1.9888</td> <td>    0.008</td> <td> -246.669</td> <td> 0.000</td> <td>   -2.005</td> <td>   -1.973</td>\n",
       "</tr>\n",
       "<tr>\n",
       "  <th>ab_page</th>   <td>   -0.0150</td> <td>    0.011</td> <td>   -1.311</td> <td> 0.190</td> <td>   -0.037</td> <td>    0.007</td>\n",
       "</tr>\n",
       "</table>"
      ],
      "text/plain": [
       "<class 'statsmodels.iolib.summary.Summary'>\n",
       "\"\"\"\n",
       "                           Logit Regression Results                           \n",
       "==============================================================================\n",
       "Dep. Variable:              converted   No. Observations:               290584\n",
       "Model:                          Logit   Df Residuals:                   290582\n",
       "Method:                           MLE   Df Model:                            1\n",
       "Date:                Mon, 15 Jan 2018   Pseudo R-squ.:               8.077e-06\n",
       "Time:                        11:42:59   Log-Likelihood:            -1.0639e+05\n",
       "converged:                       True   LL-Null:                   -1.0639e+05\n",
       "                                        LLR p-value:                    0.1899\n",
       "==============================================================================\n",
       "                 coef    std err          z      P>|z|      [0.025      0.975]\n",
       "------------------------------------------------------------------------------\n",
       "intercept     -1.9888      0.008   -246.669      0.000      -2.005      -1.973\n",
       "ab_page       -0.0150      0.011     -1.311      0.190      -0.037       0.007\n",
       "==============================================================================\n",
       "\"\"\""
      ]
     },
     "execution_count": 164,
     "metadata": {},
     "output_type": "execute_result"
    }
   ],
   "source": [
    "results.summary()"
   ]
  },
  {
   "cell_type": "code",
   "execution_count": 165,
   "metadata": {},
   "outputs": [
    {
     "data": {
      "text/plain": [
       "0.98511193960306265"
      ]
     },
     "execution_count": 165,
     "metadata": {},
     "output_type": "execute_result"
    }
   ],
   "source": [
    "np.exp(-0.0150)"
   ]
  },
  {
   "cell_type": "markdown",
   "metadata": {},
   "source": [
    "**Interpreting the result!**\n",
    "\n",
    "Conversions are **0.985** times more likely to occur on the *NEW page* than on the *OLD page* holding ALL other variables constant.\n",
    "\n",
    "This result is perfectly aligned with our previous findings."
   ]
  },
  {
   "cell_type": "markdown",
   "metadata": {},
   "source": [
    " \n",
    "\n",
    "The p-value associated with the Logistic model is **0.19**, which slightly different from what we've calculated earlier using the Hypothesis test, p_value = **0.198**. \n",
    "\n",
    "For Hypothesis testing we defined our NULL Hypothesis as having no difference between the Old Page and the New page in terms of conversions and the ALTERNATIVE hypothesis aimed to prove the contrary.\n",
    "\n",
    "For Logistic Regression model the NULL Hypothesis is defined as having **NO** linear relationship beween the *Response Variable* and the *Explanatory Variable*.\n",
    "\n",
    "In our case the meaning of our two hypothesis is close but usually, in the Hypothesis testing we define them as one being smaller or bigger than the other. (ex: NUll <= 0 / ALTERNATIVE > 0 )\n"
   ]
  },
  {
   "cell_type": "markdown",
   "metadata": {},
   "source": [
    "**Other factors that might influence the conversions.**\n",
    "\n",
    "I can easily think of other factors that could influence the likelyhood of a user to convert like:\n",
    "- time spent on the website \n",
    "- the channel he is coming from (Google AdWords, Facebook, google search ... )\n",
    "- we could perform an analysis on user characteristics like age, profession depending on the what we gather\n",
    "\n",
    "The timestamp in this example is vaguely defined. Is it the time when the visitor session started? Is it the time when the visitor \"clicked\"?\n",
    "Another question regarding this dataset is how come we have so many unique user_id's, I would've expected to have much more entries for a user before he converts. Prior to buying something, I like to check  other options. Usually I woudl visit several times a website before I convert. "
   ]
  },
  {
   "cell_type": "markdown",
   "metadata": {},
   "source": [
    "Now, I want to explore if the country of origin for the user influences our results.\n",
    "For this, I will need to read the **countries.csv** dataset and merge together your datasets on the approporiate rows.  [Here](https://pandas.pydata.org/pandas-docs/stable/generated/pandas.DataFrame.join.html) are the docs I used for joining tables. \n",
    "\n",
    "Creating dummy variables for these country columns."
   ]
  },
  {
   "cell_type": "code",
   "execution_count": 166,
   "metadata": {
    "collapsed": true
   },
   "outputs": [],
   "source": [
    "countries_df = pd.read_csv('./countries.csv')\n",
    "df_new = countries_df.set_index('user_id').join(df2.set_index('user_id'), how='inner')"
   ]
  },
  {
   "cell_type": "code",
   "execution_count": 167,
   "metadata": {
    "collapsed": true
   },
   "outputs": [],
   "source": [
    "### Create the necessary dummy variables\n",
    "df_new.groupby('country').nunique()\n",
    "df_new[['CA','UK','US']] = pd.get_dummies(df_new['country'])\n",
    "df_new['intercept'] = 1"
   ]
  },
  {
   "cell_type": "markdown",
   "metadata": {},
   "source": [
    "\n",
    "Provide the summary results, and your conclusions based on the results."
   ]
  },
  {
   "cell_type": "code",
   "execution_count": 168,
   "metadata": {},
   "outputs": [
    {
     "name": "stdout",
     "output_type": "stream",
     "text": [
      "Optimization terminated successfully.\n",
      "         Current function value: 0.366113\n",
      "         Iterations 6\n"
     ]
    },
    {
     "data": {
      "text/html": [
       "<table class=\"simpletable\">\n",
       "<caption>Logit Regression Results</caption>\n",
       "<tr>\n",
       "  <th>Dep. Variable:</th>     <td>converted</td>    <th>  No. Observations:  </th>   <td>290584</td>   \n",
       "</tr>\n",
       "<tr>\n",
       "  <th>Model:</th>               <td>Logit</td>      <th>  Df Residuals:      </th>   <td>290580</td>   \n",
       "</tr>\n",
       "<tr>\n",
       "  <th>Method:</th>               <td>MLE</td>       <th>  Df Model:          </th>   <td>     3</td>   \n",
       "</tr>\n",
       "<tr>\n",
       "  <th>Date:</th>          <td>Mon, 15 Jan 2018</td> <th>  Pseudo R-squ.:     </th>  <td>2.323e-05</td> \n",
       "</tr>\n",
       "<tr>\n",
       "  <th>Time:</th>              <td>11:43:01</td>     <th>  Log-Likelihood:    </th> <td>-1.0639e+05</td>\n",
       "</tr>\n",
       "<tr>\n",
       "  <th>converged:</th>           <td>True</td>       <th>  LL-Null:           </th> <td>-1.0639e+05</td>\n",
       "</tr>\n",
       "<tr>\n",
       "  <th> </th>                      <td> </td>        <th>  LLR p-value:       </th>   <td>0.1760</td>   \n",
       "</tr>\n",
       "</table>\n",
       "<table class=\"simpletable\">\n",
       "<tr>\n",
       "      <td></td>         <th>coef</th>     <th>std err</th>      <th>z</th>      <th>P>|z|</th>  <th>[0.025</th>    <th>0.975]</th>  \n",
       "</tr>\n",
       "<tr>\n",
       "  <th>intercept</th> <td>   -1.9893</td> <td>    0.009</td> <td> -223.763</td> <td> 0.000</td> <td>   -2.007</td> <td>   -1.972</td>\n",
       "</tr>\n",
       "<tr>\n",
       "  <th>ab_page</th>   <td>   -0.0149</td> <td>    0.011</td> <td>   -1.307</td> <td> 0.191</td> <td>   -0.037</td> <td>    0.007</td>\n",
       "</tr>\n",
       "<tr>\n",
       "  <th>CA</th>        <td>   -0.0408</td> <td>    0.027</td> <td>   -1.516</td> <td> 0.130</td> <td>   -0.093</td> <td>    0.012</td>\n",
       "</tr>\n",
       "<tr>\n",
       "  <th>UK</th>        <td>    0.0099</td> <td>    0.013</td> <td>    0.743</td> <td> 0.457</td> <td>   -0.016</td> <td>    0.036</td>\n",
       "</tr>\n",
       "</table>"
      ],
      "text/plain": [
       "<class 'statsmodels.iolib.summary.Summary'>\n",
       "\"\"\"\n",
       "                           Logit Regression Results                           \n",
       "==============================================================================\n",
       "Dep. Variable:              converted   No. Observations:               290584\n",
       "Model:                          Logit   Df Residuals:                   290580\n",
       "Method:                           MLE   Df Model:                            3\n",
       "Date:                Mon, 15 Jan 2018   Pseudo R-squ.:               2.323e-05\n",
       "Time:                        11:43:01   Log-Likelihood:            -1.0639e+05\n",
       "converged:                       True   LL-Null:                   -1.0639e+05\n",
       "                                        LLR p-value:                    0.1760\n",
       "==============================================================================\n",
       "                 coef    std err          z      P>|z|      [0.025      0.975]\n",
       "------------------------------------------------------------------------------\n",
       "intercept     -1.9893      0.009   -223.763      0.000      -2.007      -1.972\n",
       "ab_page       -0.0149      0.011     -1.307      0.191      -0.037       0.007\n",
       "CA            -0.0408      0.027     -1.516      0.130      -0.093       0.012\n",
       "UK             0.0099      0.013      0.743      0.457      -0.016       0.036\n",
       "==============================================================================\n",
       "\"\"\""
      ]
     },
     "execution_count": 168,
     "metadata": {},
     "output_type": "execute_result"
    }
   ],
   "source": [
    "### Fit Your Linear Model And Obtain the Results\n",
    "logit_mod = sm.Logit(df_new['converted'],df_new[['intercept','ab_page','CA','UK']])\n",
    "results = logit_mod.fit()\n",
    "results.summary()"
   ]
  },
  {
   "cell_type": "code",
   "execution_count": 169,
   "metadata": {},
   "outputs": [
    {
     "data": {
      "text/plain": [
       "(0.98511193960306265, 0.96002111497165088, 1.0099491671175422)"
      ]
     },
     "execution_count": 169,
     "metadata": {},
     "output_type": "execute_result"
    }
   ],
   "source": [
    "np.exp(-0.0150), np.exp(-0.0408),np.exp(0.0099)"
   ]
  },
  {
   "cell_type": "markdown",
   "metadata": {},
   "source": [
    "In this regression model I used as a baseline country of origin US.\n",
    "The results are interpreted in this way:\n",
    " - Canadian users are *0.96 more likely to convert* than US users\n",
    " - Unighted Kindom users are *1.01 more likely to convert* than US users\n",
    " \n",
    "Again, this results do not seem to have practical significance. "
   ]
  },
  {
   "cell_type": "markdown",
   "metadata": {},
   "source": [
    "**GO ABOVE AND BEYOND**\n",
    "\n",
    "Let's see if US users are more likely to convert in morning times or in the evening.\n",
    "I am only chosing the US dataframe so that my analysis will be less influenced by the timezone."
   ]
  },
  {
   "cell_type": "code",
   "execution_count": 170,
   "metadata": {
    "collapsed": true
   },
   "outputs": [],
   "source": [
    "df_US = df_new.query('country == \"US\"')"
   ]
  },
  {
   "cell_type": "code",
   "execution_count": 171,
   "metadata": {},
   "outputs": [
    {
     "name": "stderr",
     "output_type": "stream",
     "text": [
      "C:\\ProgramData\\Anaconda3\\lib\\site-packages\\ipykernel_launcher.py:14: SettingWithCopyWarning: \n",
      "A value is trying to be set on a copy of a slice from a DataFrame.\n",
      "Try using .loc[row_indexer,col_indexer] = value instead\n",
      "\n",
      "See the caveats in the documentation: http://pandas.pydata.org/pandas-docs/stable/indexing.html#indexing-view-versus-copy\n",
      "  \n",
      "C:\\ProgramData\\Anaconda3\\lib\\site-packages\\ipykernel_launcher.py:15: SettingWithCopyWarning: \n",
      "A value is trying to be set on a copy of a slice from a DataFrame.\n",
      "Try using .loc[row_indexer,col_indexer] = value instead\n",
      "\n",
      "See the caveats in the documentation: http://pandas.pydata.org/pandas-docs/stable/indexing.html#indexing-view-versus-copy\n",
      "  from ipykernel import kernelapp as app\n",
      "C:\\ProgramData\\Anaconda3\\lib\\site-packages\\ipykernel_launcher.py:16: SettingWithCopyWarning: \n",
      "A value is trying to be set on a copy of a slice from a DataFrame.\n",
      "Try using .loc[row_indexer,col_indexer] = value instead\n",
      "\n",
      "See the caveats in the documentation: http://pandas.pydata.org/pandas-docs/stable/indexing.html#indexing-view-versus-copy\n",
      "  app.launch_new_instance()\n",
      "C:\\ProgramData\\Anaconda3\\lib\\site-packages\\ipykernel_launcher.py:17: SettingWithCopyWarning: \n",
      "A value is trying to be set on a copy of a slice from a DataFrame.\n",
      "Try using .loc[row_indexer,col_indexer] = value instead\n",
      "\n",
      "See the caveats in the documentation: http://pandas.pydata.org/pandas-docs/stable/indexing.html#indexing-view-versus-copy\n"
     ]
    }
   ],
   "source": [
    "from datetime import time\n",
    "\n",
    "#creating time intervals\n",
    "morning_start = time(6)\n",
    "morning_end = time(12)\n",
    "noon_start = time(12)\n",
    "noon_end = time(17)\n",
    "evening_start = time(17)\n",
    "evening_end = time(23)\n",
    "night_start = time(23)\n",
    "night_end = time(6)\n",
    "\n",
    "#introducing my binary columns as dummy variables\n",
    "df_US['morning'] = np.where((( morning_start.hour <= df_US.timestamp.apply(lambda x: x.hour)) & (df_US.timestamp.apply(lambda x: x.hour) < morning_end.hour)), 1, 0)\n",
    "df_US['noon'] = np.where((( noon_start.hour <= df_US.timestamp.apply(lambda x: x.hour)) & (df_US.timestamp.apply(lambda x: x.hour) < noon_end.hour)), 1, 0)\n",
    "df_US['evening'] = np.where((( evening_start.hour <= df_US.timestamp.apply(lambda x: x.hour)) & (df_US.timestamp.apply(lambda x: x.hour) < evening_end.hour)), 1, 0)\n",
    "df_US['night'] = np.where((( night_start.hour <= df_US.timestamp.apply(lambda x: x.hour)) & (df_US.timestamp.apply(lambda x: x.hour) < night_end.hour)), 1, 0)\n"
   ]
  },
  {
   "cell_type": "code",
   "execution_count": 172,
   "metadata": {},
   "outputs": [
    {
     "name": "stdout",
     "output_type": "stream",
     "text": [
      "Optimization terminated successfully.\n",
      "         Current function value: 0.366018\n",
      "         Iterations 6\n"
     ]
    },
    {
     "data": {
      "text/html": [
       "<table class=\"simpletable\">\n",
       "<caption>Logit Regression Results</caption>\n",
       "<tr>\n",
       "  <th>Dep. Variable:</th>     <td>converted</td>    <th>  No. Observations:  </th>  <td>203619</td>  \n",
       "</tr>\n",
       "<tr>\n",
       "  <th>Model:</th>               <td>Logit</td>      <th>  Df Residuals:      </th>  <td>203616</td>  \n",
       "</tr>\n",
       "<tr>\n",
       "  <th>Method:</th>               <td>MLE</td>       <th>  Df Model:          </th>  <td>     2</td>  \n",
       "</tr>\n",
       "<tr>\n",
       "  <th>Date:</th>          <td>Mon, 15 Jan 2018</td> <th>  Pseudo R-squ.:     </th> <td>7.854e-06</td>\n",
       "</tr>\n",
       "<tr>\n",
       "  <th>Time:</th>              <td>11:43:11</td>     <th>  Log-Likelihood:    </th> <td> -74528.</td> \n",
       "</tr>\n",
       "<tr>\n",
       "  <th>converged:</th>           <td>True</td>       <th>  LL-Null:           </th> <td> -74529.</td> \n",
       "</tr>\n",
       "<tr>\n",
       "  <th> </th>                      <td> </td>        <th>  LLR p-value:       </th>  <td>0.5569</td>  \n",
       "</tr>\n",
       "</table>\n",
       "<table class=\"simpletable\">\n",
       "<tr>\n",
       "      <td></td>         <th>coef</th>     <th>std err</th>      <th>z</th>      <th>P>|z|</th>  <th>[0.025</th>    <th>0.975]</th>  \n",
       "</tr>\n",
       "<tr>\n",
       "  <th>intercept</th> <td>   -2.0033</td> <td>    0.009</td> <td> -214.974</td> <td> 0.000</td> <td>   -2.022</td> <td>   -1.985</td>\n",
       "</tr>\n",
       "<tr>\n",
       "  <th>noon</th>      <td>    0.0108</td> <td>    0.018</td> <td>    0.613</td> <td> 0.540</td> <td>   -0.024</td> <td>    0.045</td>\n",
       "</tr>\n",
       "<tr>\n",
       "  <th>evening</th>   <td>    0.0170</td> <td>    0.016</td> <td>    1.035</td> <td> 0.301</td> <td>   -0.015</td> <td>    0.049</td>\n",
       "</tr>\n",
       "</table>"
      ],
      "text/plain": [
       "<class 'statsmodels.iolib.summary.Summary'>\n",
       "\"\"\"\n",
       "                           Logit Regression Results                           \n",
       "==============================================================================\n",
       "Dep. Variable:              converted   No. Observations:               203619\n",
       "Model:                          Logit   Df Residuals:                   203616\n",
       "Method:                           MLE   Df Model:                            2\n",
       "Date:                Mon, 15 Jan 2018   Pseudo R-squ.:               7.854e-06\n",
       "Time:                        11:43:11   Log-Likelihood:                -74528.\n",
       "converged:                       True   LL-Null:                       -74529.\n",
       "                                        LLR p-value:                    0.5569\n",
       "==============================================================================\n",
       "                 coef    std err          z      P>|z|      [0.025      0.975]\n",
       "------------------------------------------------------------------------------\n",
       "intercept     -2.0033      0.009   -214.974      0.000      -2.022      -1.985\n",
       "noon           0.0108      0.018      0.613      0.540      -0.024       0.045\n",
       "evening        0.0170      0.016      1.035      0.301      -0.015       0.049\n",
       "==============================================================================\n",
       "\"\"\""
      ]
     },
     "execution_count": 172,
     "metadata": {},
     "output_type": "execute_result"
    }
   ],
   "source": [
    "logit_mod = sm.Logit(df_US['converted'],df_US[['intercept','noon','evening']])\n",
    "results = logit_mod.fit()\n",
    "results.summary()\n"
   ]
  },
  {
   "cell_type": "code",
   "execution_count": 173,
   "metadata": {},
   "outputs": [
    {
     "data": {
      "text/plain": [
       "(1.0358268534551582, 1.010858530520097, 1.0172470419433695)"
      ]
     },
     "execution_count": 173,
     "metadata": {},
     "output_type": "execute_result"
    }
   ],
   "source": [
    "np.exp(0.0352),np.exp(0.0108) , np.exp(0.0171)"
   ]
  },
  {
   "cell_type": "markdown",
   "metadata": {},
   "source": [
    "In this regression model I used as a baseline the period of the day - *morning*.\n",
    "\n",
    "The results are interpreted in this way:\n",
    " - US users are *1.010 more likely to convert*  during noon hours than morning times \n",
    " - US users are *1.017 more likely to convert*  during evening hours than morning times \n",
    " \n",
    "Again, this results do not seem to have practical significance. "
   ]
  },
  {
   "cell_type": "markdown",
   "metadata": {},
   "source": [
    "<a id='conclusions'></a>\n",
    "## Conclusions\n",
    "\n",
    "In this experiment we were asked to analyze if a NEW page is creating more conversions than the OLD page. We were provided with a comprehensive dataset of almost 300,000 data points collected in January 2017 for 22 days.\n",
    "We have explored the data in many ways, using different statistical approaches:\n",
    " - regular proportions have indicated a conversion rate of about 12% for both pages;\n",
    " - Hypothesis testing has showen that we can NOT reject the NULL hypothesis and imply that the New page drives a different proportion in conversions than the Old page\n",
    " - we derived the same conclusion using statsmodels - proportions_ztest\n",
    " - we used a different approach using Regression Logistic models and obtained similar results.\n",
    " \n",
    "We explored the dataset further using Logistic Regression to understand the user preference based on their country origin and day period and for both explorations we learned that the differences are very small.\n",
    "\n",
    "**We conclud that the statistical evidence gathered shows that the New and Old pages are entitled to produce similar results in terms of user conversions neverthless the users country of origin nor the period during the day in which the pages are accessed.**\n",
    "\n"
   ]
  },
  {
   "cell_type": "code",
   "execution_count": null,
   "metadata": {
    "collapsed": true
   },
   "outputs": [],
   "source": []
  }
 ],
 "metadata": {
  "kernelspec": {
   "display_name": "Python 3",
   "language": "python",
   "name": "python3"
  },
  "language_info": {
   "codemirror_mode": {
    "name": "ipython",
    "version": 3
   },
   "file_extension": ".py",
   "mimetype": "text/x-python",
   "name": "python",
   "nbconvert_exporter": "python",
   "pygments_lexer": "ipython3",
   "version": "3.6.1"
  }
 },
 "nbformat": 4,
 "nbformat_minor": 2
}
